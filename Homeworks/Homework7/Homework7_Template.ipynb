{
 "cells": [
  {
   "cell_type": "markdown",
   "metadata": {
    "ExecuteTime": {
     "end_time": "2020-01-26T08:48:31.926693Z",
     "start_time": "2020-01-26T08:48:31.923116Z"
    }
   },
   "source": [
    "# Homework 7 Template\n",
    "\n",
    "Rixin Li & G . Besla\n",
    "\n"
   ]
  },
  {
   "cell_type": "code",
   "execution_count": 188,
   "metadata": {
    "ExecuteTime": {
     "end_time": "2020-03-16T03:13:30.748911Z",
     "start_time": "2020-03-16T03:13:30.745053Z"
    }
   },
   "outputs": [],
   "source": [
    "# import necessary modules\n",
    "# numpy provides powerful multi-dimensional arrays to hold and manipulate data\n",
    "import numpy as np\n",
    "# matplotlib provides powerful functions for plotting figures\n",
    "import matplotlib.pyplot as plt\n",
    "# astropy provides unit system and constants for astronomical calculations\n",
    "import astropy.units as u\n",
    "import astropy.constants as const\n",
    "# import Latex module so we can display the results with symbols\n",
    "from IPython.display import Latex\n",
    "%matplotlib inline\n",
    "\n",
    "# **** import CenterOfMass to determine the COM pos/vel of M33\n",
    "from CenterOfMass import CenterOfMass\n",
    "\n",
    "# **** import the GalaxyMass to determine the mass of M31 for each component\n",
    "from GalaxyMass import ComponentMass"
   ]
  },
  {
   "cell_type": "markdown",
   "metadata": {},
   "source": [
    "# M33AnalyticOrbit"
   ]
  },
  {
   "cell_type": "code",
   "execution_count": 200,
   "metadata": {
    "ExecuteTime": {
     "end_time": "2020-03-16T03:08:14.820296Z",
     "start_time": "2020-03-16T03:08:14.800707Z"
    }
   },
   "outputs": [],
   "source": [
    "class M33AnalyticOrbit:\n",
    "    \"\"\" Calculate the analytical orbit of M33 around M31 \"\"\"\n",
    "    \n",
    "    def __init__(self, filename): # **** add inputs\n",
    "        \"\"\" Class to analytically calculate the orbit of the M33 COM relative to M31 COM\n",
    "        given their initial positions and velocities, and assuming Hernquist profiles\n",
    "        for the Bulge and Halo components of M31 and a Miyamoto-Nagai profile for the disk.\n",
    "        \n",
    "        PARAMETERS\n",
    "        ----------\n",
    "        filename: `string`\n",
    "            name of file to save integrated orbit to\n",
    "        \n",
    "        \"\"\"\n",
    "        \n",
    "        # get the gravitational constant (the value is 4.498502151575286e-06)\n",
    "        self.G = const.G.to(u.kpc**3/u.Msun/u.Gyr**2).value\n",
    "        \n",
    "        self.filename = filename # store the output file name\n",
    "\n",
    "        COM_M33 = CenterOfMass(\"M33_000.txt\", ptype=2) # M33 COM object, disk particles\n",
    "        r_M33 = COM_M33.COM_P(0.1) # M33 COM iterative position with 0.1 tolerance\n",
    "        v_M33 = COM_M33.COM_V(r_M33[0], r_M33[1], r_M33[2]) # M33 COM velocity\n",
    "\n",
    "        COM_M31 = CenterOfMass(\"M31_000.txt\", ptype=2) # M31 COM object, disk particles\n",
    "        r_M31 = COM_M31.COM_P(0.1) # M31 COM  position vector, 0.1 tolerance iterations\n",
    "        v_M31 = COM_M31.COM_V(r_M31[0], r_M31[1], r_M31[2]) # M31 COM velocity\n",
    "        \n",
    "        self.r0 = (r_M33 - r_M31).value # relative position vector between M31 and M33 (no units)\n",
    "        self.v0 = (v_M33 - v_M31).value # relative velocity vector between M31 and M33 (no units)\n",
    "        \n",
    "        # scale length/mass of each component in M31 (factor of 1e12 due to implicit units)\n",
    "        self.rdisk = 5 # scale length of M31 disk as stated in HW PDF\n",
    "        self.Mdisk = ComponentMass('M31_000.txt', 2).value*1e12 # M31 disk mass component\n",
    "        \n",
    "        self.rbulge = 1 # scale length of M31 bulge as stated in HW PDF\n",
    "        self.Mbulge = ComponentMass('M31_000.txt', 3).value*1e12 # M31 bulge mass component\n",
    "        \n",
    "        self.rhalo = 62 # scale length of M31 halo from HW 5\n",
    "        self.Mhalo = ComponentMass('M31_000.txt', 1).value*1e12 # M31 halo mass component\n",
    "    \n",
    "    \n",
    "    def HernquistAccel(self, M, r_a, r):\n",
    "        \"\"\" Function to determine the acceleration vector on M33 from a component of M31 with\n",
    "        a specified mass, assuming a Hernquist profile (for bulge and halo).\n",
    "        \n",
    "        INPUTS\n",
    "        ------\n",
    "        M: `float`\n",
    "            Mass of galaxy component (Msun)\n",
    "        \n",
    "        r_a: `float`\n",
    "            Scale length of galaxy component being analyzed (kpc)\n",
    "        \n",
    "        r: `numpy array`\n",
    "            Position vector of M33 COM, components in kpc\n",
    "            \n",
    "        OUTPUTS\n",
    "        -------\n",
    "        Hern: `numpy array`\n",
    "            Acceleration vector of M33 COM from M31 Hernquist profile\n",
    "        \n",
    "        \"\"\"\n",
    "    \n",
    "        rmag = np.linalg.norm(r) # Magnitude of the position vector\n",
    "        \n",
    "        # Formula for acceleration from Hern. profile given by equation 1 in the HW PDF\n",
    "        Hern =  -self.G*M / (rmag * (r_a + rmag)**2) * r \n",
    "        return Hern # return acceleration vector\n",
    "\n",
    "\n",
    "    def MiyamotoNagaiAccel(self, M, r_d, r):# it is easiest if you take as an input a position VECTOR  r \n",
    "        \"\"\" Function to determine the acceleration vector on M33 from a component of M31 with\n",
    "        a specified mass, assuming a Miyamoto-Nagai 1975 profile (exponential disk profile).\n",
    "        \n",
    "        INPUTS\n",
    "        ------\n",
    "        M: `float`\n",
    "            Mass of galaxy component (Msun)\n",
    "        \n",
    "        r_d: `float`\n",
    "            Scale length of galaxy component being analyzed (kpc)\n",
    "        \n",
    "        r: `numpy array`\n",
    "            Position vector of M33 COM, components in kpc\n",
    "            \n",
    "        OUTPUTS\n",
    "        -------\n",
    "        MN_acceleration: `numpy array`\n",
    "            Acceleration vector of M33 COM from M31 Miyamoto-Nagai profile\n",
    "        \n",
    "        \"\"\"\n",
    "\n",
    "        # define three quantities from the HW to simplify the acceleration formula\n",
    "        z_d = r_d/5.0 # define quantity z_d based on HW PDF instructions\n",
    "        R = np.sqrt(r[0]**2 + r[1]**2) # another quantity from HW PDF\n",
    "        B = r_d + np.sqrt(r[2]**2 + z_d**2) # yet another quantity from HW PDF\n",
    "        \n",
    "        MN_acceleration = -self.G*M / (R**2 + B**2)**1.5 * r # formula from HW PDF\n",
    "        # z component contains an additional factor, define vector to multiply by to achieve this\n",
    "        correction_vector = np.array([1, 1, B/np.sqrt(r[2]**2 + z_d**2)]) \n",
    "        MN_acceleration *= correction_vector # add extra term to z component\n",
    "        return MN_acceleration # return acceleration vector\n",
    "     \n",
    "    \n",
    "    def M31Accel(self, r):\n",
    "        \"\"\" Function to determine the total acceleration on M33 from all components of M31. Its\n",
    "        bulge and halo are assumed to have a Hernquist profile with scale lengths as given/derived\n",
    "        in previous hw, and its disk is assumed to follow a Miyamoto-Nagai 1975 profile with a\n",
    "        scale length given. The acceleration from all three components are then summed.\n",
    "        \n",
    "        INPUTS\n",
    "        ------\n",
    "        r: `numpy array`\n",
    "            Position vector of M33 COM, components in kpc\n",
    "            \n",
    "        OUTPUTS\n",
    "        -------\n",
    "        total_acceleration: `numpy array`\n",
    "            Acceleration vector of M33 COM from all M31 components\n",
    "        \n",
    "        \"\"\"\n",
    "        \n",
    "        # calculate three components that contribute to acceleration using profiles from above\n",
    "        bulge_acceleration = self.HernquistAccel(self.Mbulge, self.rbulge, r) # bulge component\n",
    "        halo_acceleration = self.HernquistAccel(self.Mhalo, self.rhalo, r) # halo component\n",
    "        disk_acceleration = self.MiyamotoNagaiAccel(self.Mdisk, self.rdisk, r) # disk component\n",
    "        \n",
    "        # sum up accelerations from all three components to achieve final acceleration\n",
    "        total_acceleration = bulge_acceleration + halo_acceleration + disk_acceleration\n",
    "        return total_acceleration # return final acceleration vector\n",
    "    \n",
    "    \n",
    "    def LeapFrog(self, dt, r, v): # take as input r and v, which are VECTORS. Assume it is ONE vector at a time\n",
    "        \"\"\" Function to perform numerical orbit integration step using leapfrog scheme.\n",
    "        \n",
    "        INPUTS\n",
    "        ------\n",
    "        dt: `float`\n",
    "            Time step over which to integrate (Gyr)\n",
    "        r: `numpy array`\n",
    "            Current position vector of M33 COM, components in kpc\n",
    "        v: `numpy array`\n",
    "            Current velocity vector of M33 COM, components in km/s\n",
    "            \n",
    "        OUTPUTS\n",
    "        -------\n",
    "        rnew: `numpy array`\n",
    "            Updated position vector of M33 COM, components in kpc\n",
    "        vnew: `numpy array`\n",
    "            Updated velocity vector of M33 COM, components in km/s\n",
    "        \n",
    "        \"\"\"\n",
    "        \n",
    "        rhalf = r + v*dt/2 # predict the position at the next half timestep\n",
    "        \n",
    "        # predict the final velocity at the next timestep using the acceleration field at the rhalf position \n",
    "        vnew = v + self.M31Accel(rhalf)*dt\n",
    "        \n",
    "        # predict the final position using the average of the current velocity and the final velocity\n",
    "        # this accounts for the fact that we don't know how the speed changes from the current timestep to the \n",
    "        # next, so we approximate it using the average expected speed over the time interval dt. \n",
    "        rnew = rhalf + vnew*dt/2\n",
    "        \n",
    "        return rnew, vnew # return next position and velocity calculated through integration step\n",
    "    \n",
    "    \n",
    "    def OrbitIntegration(self, t0, dt, tmax):\n",
    "        \"\"\" Function to perform a numerical integration of the orbit of M33 around M31 using a\n",
    "        leapfrom numerical integration scheme. Use a previously defined function to calculate the\n",
    "        acceleration vector of M33 at each position and perform an integration at each step, running\n",
    "        from the start time to the defined end time with a given time step size. Save the file\n",
    "        containing information about the orbit over time to the filename specified during the\n",
    "        instantiation of the class.\n",
    "        \n",
    "        INPUTS\n",
    "        ------\n",
    "        t0: `float`\n",
    "            Start time of integration (Gyr)\n",
    "        dt: `float`\n",
    "            Time step over which to integrate (Gyr)\n",
    "        tmax: `float`\n",
    "            Final time of integration (Gyr)\n",
    "        \"\"\"\n",
    "\n",
    "        t = t0 # initialize the time to the input starting time\n",
    "        orbit = np.zeros((int(tmax/dt)+2, 7)) # empty array to store M33 parameters over time\n",
    "        orbit[0] = t0, *tuple(self.r0), *tuple(self.v0) # initialize the first row of the orbit\n",
    "        \n",
    "        i = 1 # initialize a counter for the orbit, start the counter at 1 since 0th row set\n",
    "        # start the integration (advancing in time steps and computing LeapFrog at each step)\n",
    "        while (t <= tmax):  # as long as t has not exceeded the maximal time \n",
    "            \n",
    "            \n",
    "            t += dt # advance the time by one timestep, dt\n",
    "            orbit[i, 0] = t # store the new time in the first column of the ith row\n",
    "            \n",
    "            # advance and get the position and velocity using the LeapFrog scheme\n",
    "            # second and third parameters are position and velocity from the last step in the array\n",
    "            r, v = self.LeapFrog(dt, orbit[i-1, 1:4], orbit[i-1, 4:8])\n",
    "    \n",
    "            # store the new position vector into the columns with indexes 1,2,3 of the ith row of orbit\n",
    "            orbit[i, 1:4] = r\n",
    "            \n",
    "            # store the new velocity vector into the columns with indexes 4,5,6 of the ith row of orbit\n",
    "            orbit[i, 4:8] = v\n",
    "\n",
    "            i += 1 #update counter i \n",
    "        \n",
    "        # write the data to a file\n",
    "        np.savetxt(self.filename, orbit, fmt = \"%11.3f\"*7, comments='#', \n",
    "                   header=\"{:>10s}{:>11s}{:>11s}{:>11s}{:>11s}{:>11s}{:>11s}\"\\\n",
    "                   .format('t', 'x', 'y', 'z', 'vx', 'vy', 'vz'))\n",
    "        \n",
    "        # there is no return function"
   ]
  },
  {
   "cell_type": "code",
   "execution_count": 201,
   "metadata": {},
   "outputs": [],
   "source": [
    "M33_Orbit_Object = M33AnalyticOrbit('M33_analytic_orbit.txt') # Instantiate orbit integrator object\n",
    "M33_Orbit_Object.OrbitIntegration(0, 0.001, 10) # Run leapfrog integration, 0-10 Gyr, 0.001 Gyr timestep\n",
    "M33_analytic_orbit = np.genfromtxt('M33_analytic_orbit.txt', names=True) # Read saved M33 analytic orbit file"
   ]
  },
  {
   "cell_type": "code",
   "execution_count": 202,
   "metadata": {},
   "outputs": [],
   "source": [
    "M33_analytic_position = np.array((M33_analytic_orbit['x'], M33_analytic_orbit['y'], \\\n",
    "                                  M33_analytic_orbit['z'])) # Analytic position vector of M33 COM\n",
    "M33_analytic_velocity = np.array((M33_analytic_orbit['vx'], M33_analytic_orbit['vy'], \\\n",
    "                                  M33_analytic_orbit['vz'])) # Analytic velocity vector of M33 COM"
   ]
  },
  {
   "cell_type": "code",
   "execution_count": 203,
   "metadata": {},
   "outputs": [],
   "source": [
    "### function defined in HW 6 to get magnitude of separation vector between M31 and M33\n",
    "# function to compute the magnitude of the difference between two vectors \n",
    "# You can use this function to return both the relative position and relative velocity for two \n",
    "# galaxies over the entire orbit  \n",
    "def vector_magnitude(v1, v2):\n",
    "    \"\"\"function that determines the magnitude of the difference in two vectors. If the vectors are 2D\n",
    "    arrays of the same length, then the function will compute the magnitude of the difference vector\n",
    "    at each row in the input.\n",
    "    inputs:\n",
    "        v1 : 'numpy array'\n",
    "            first vector to be analyzed\n",
    "        v2 : 'numpy array'\n",
    "            second vector to be analyzed\n",
    "            \n",
    "    outputs: \n",
    "        'float' or 'numpy array'\n",
    "            if the vectors are 1D, float of the magnitude of their difference.\n",
    "            if the vectors are 2D, array of difference vector magnitudes.\n",
    "        \n",
    "    \"\"\"\n",
    "    if v1.shape != v2.shape: # check if vectors have same dimension and length\n",
    "        raise ValueError(\"Input vectors must have same shape.\")\n",
    "    return np.linalg.norm((v1-v2), axis=0) # return magnitude of each row (single row if 1D vectors)"
   ]
  },
  {
   "cell_type": "code",
   "execution_count": 204,
   "metadata": {},
   "outputs": [],
   "source": [
    "M31_orbit = np.genfromtxt('Orbit_M31.txt', names=True) # Read in simulation M31 COM file (HW 6)\n",
    "M33_orbit = np.genfromtxt('Orbit_M33.txt', names=True) # Read in simulation M33 COM file (HW 6)\n",
    "\n",
    "# Set the position and velocity vectors of M31 and M33 COM from the simluation data\n",
    "M31_position = np.array((M31_orbit['x'], M31_orbit['y'], M31_orbit['z'])) # Position vector of M31 COM (simulation)\n",
    "M33_position = np.array((M33_orbit['x'], M33_orbit['y'], M33_orbit['z'])) # Position vector of M33 COM (simulation)\n",
    "M31_velocity = np.array((M31_orbit['vx'], M31_orbit['vy'], M31_orbit['vz'])) # Velocity vector of M31 COM (simulation)\n",
    "M33_velocity = np.array((M33_orbit['vx'], M33_orbit['vy'], M33_orbit['vz'])) # Velocity vector of M33 COM (simulation)\n",
    "\n",
    "# Determine the magnitude of the relative position and velocities of M31 and M33 (simulation)\n",
    "M33_M31_separation_distance = vector_magnitude(M33_position, M31_position) # Relative separation between M33 and M31\n",
    "M33_M31_relative_velocity_magnitude = vector_magnitude(M33_velocity, M31_velocity) # Relative speed between M33 and M31\n",
    "# Select out only the entries from relative position and velocity within the integration time for plotting purposes\n",
    "M33_M31_separation_distance = M33_M31_separation_distance[np.where(M31_orbit['t']<10)]\n",
    "M33_M31_relative_velocity_magnitude = M33_M31_relative_velocity_magnitude[np.where(M31_orbit['t']<10)]\n",
    "M31_orbit_t = M31_orbit['t'][np.where(M31_orbit['t']<10)] # Time series of simulation within integration times"
   ]
  },
  {
   "cell_type": "code",
   "execution_count": 205,
   "metadata": {},
   "outputs": [
    {
     "data": {
      "text/plain": [
       "<matplotlib.legend.Legend at 0x1445c430>"
      ]
     },
     "execution_count": 205,
     "metadata": {},
     "output_type": "execute_result"
    },
    {
     "data": {
      "image/png": "[encoded data removed]",
      "text/plain": [
       "<Figure size 432x288 with 1 Axes>"
      ]
     },
     "metadata": {
      "needs_background": "light"
     },
     "output_type": "display_data"
    }
   ],
   "source": [
    "# Plot of the M31-M33 separation distance magnitude from the simulation and analytic integration\n",
    "plt.plot(M31_orbit_t, M33_M31_separation_distance, c='black', lw=2, ls='--', \\\n",
    "         label='Simulation Data') # M31-M33 separation distance (simulation)\n",
    "plt.plot(M33_analytic_orbit['t'], np.linalg.norm(M33_analytic_position, axis=0), c='red', \\\n",
    "         label='Analytic Integration') # M31-M33 separation distance (analytic)\n",
    "\n",
    "plt.xlabel('Time (Gyr)')\n",
    "plt.ylabel('Separation Distance (kpc)')\n",
    "plt.title('M31-M33 Separation Distance (kpc) vs Time (Gyr)')\n",
    "plt.legend(loc='upper left')"
   ]
  },
  {
   "cell_type": "code",
   "execution_count": 206,
   "metadata": {},
   "outputs": [
    {
     "data": {
      "text/plain": [
       "<matplotlib.legend.Legend at 0x18533868>"
      ]
     },
     "execution_count": 206,
     "metadata": {},
     "output_type": "execute_result"
    },
    {
     "data": {
      "image/png": "[encoded data removed]",
      "text/plain": [
       "<Figure size 432x288 with 1 Axes>"
      ]
     },
     "metadata": {
      "needs_background": "light"
     },
     "output_type": "display_data"
    }
   ],
   "source": [
    "# Plot of the M31-M33 relative velocity magnitude from the simulation and analytic integration\n",
    "plt.plot(M31_orbit_t, M33_M31_relative_velocity_magnitude, c='black', lw=2, ls='--', \\\n",
    "         label='Simulation Data') # M31-M33 relative speed (simulation)\n",
    "plt.plot(M33_analytic_orbit['t'], np.linalg.norm(M33_analytic_velocity, axis=0), c='red', \\\n",
    "         label='Analytic Integration') # M31-M33 relative speed (analytic)\n",
    "\n",
    "plt.title('M31-M33 Relative Velocity Magnitude (km/s) vs Time (Gyr)')\n",
    "plt.xlabel('Time (Gyr)')\n",
    "plt.ylabel('Relative Velocity Magnitude (km/s)')\n",
    "plt.legend(loc='upper right')"
   ]
  },
  {
   "cell_type": "markdown",
   "metadata": {},
   "source": [
    "# Analysis Questions\n",
    "## 1. Plots (see above)\n",
    "## 2. How do the plots compare?\n",
    "The plots for both position and velocity are in relative agreement for approximately the first 1.5-2 Gyr of the simulation. This is consistent of what one might expect, given that some physical effects are neglected and the MW is absent from the analytical calculation. The results nonetheless match within a given timeframe, which means that the other factors either take time to accumulate or are only present later on.\n",
    "\n",
    "## 3. What missing physics could make the difference?\n",
    "One major missing piece is dynamical friction. The interaction between M33 and the \"wake\" of dark matter it leaves behind as it moves through the halo of M31 causes it to slow down over time and decay in its orbit. This can clearly be seen in the first plot, showing the separation distance between M33 and M31 (and eventually, the merger remnant), and even in the early parts of the velocity plot.\n",
    "\n",
    "## 4. The MW is missing in these calculations. How might you include its effects?\n",
    "One could account for the MW by adding additional terms in the computation of the total acceleration vector of the M33 COM. To do this, one would need to compute the relative positions of the MW and M33, and add additional terms to the M31Accel function with the corresponding scale lengths and masses of each component of the MW. At the same time, now, M31 would experience a significant acceleration due to the MW and vice versa, causing them to move toward each other (as one would expect from observations). This means that to incorporate the MW, one would also have to account for the motions of all 3 bodies, not just M33, which would add a layer of complexity. Using a similar integration technique, one could update the COM positions of all 3 bodies using accelerations calculated from the other 2. Even this would only work for a somewhat short timescale though, because the MW and M31 are not very well approximated by point masses once they start merging, and their extended structure starts to be significantly altered once they have a close approach and eventually merge."
   ]
  }
 ],
 "metadata": {
  "kernelspec": {
   "display_name": "Python 3 (ipykernel)",
   "language": "python",
   "name": "python3"
  },
  "language_info": {
   "codemirror_mode": {
    "name": "ipython",
    "version": 3
   },
   "file_extension": ".py",
   "mimetype": "text/x-python",
   "name": "python",
   "nbconvert_exporter": "python",
   "pygments_lexer": "ipython3",
   "version": "3.9.7"
  },
  "varInspector": {
   "cols": {
    "lenName": 16,
    "lenType": 16,
    "lenVar": 40
   },
   "kernels_config": {
    "python": {
     "delete_cmd_postfix": "",
     "delete_cmd_prefix": "del ",
     "library": "var_list.py",
     "varRefreshCmd": "print(var_dic_list())"
    },
    "r": {
     "delete_cmd_postfix": ") ",
     "delete_cmd_prefix": "rm(",
     "library": "var_list.r",
     "varRefreshCmd": "cat(var_dic_list()) "
    }
   },
   "types_to_exclude": [
    "module",
    "function",
    "builtin_function_or_method",
    "instance",
    "_Feature"
   ],
   "window_display": false
  }
 },
 "nbformat": 4,
 "nbformat_minor": 4
}
