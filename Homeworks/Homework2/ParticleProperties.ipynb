{
 "cells": [
  {
   "cell_type": "code",
   "execution_count": 1,
   "id": "355625d2",
   "metadata": {},
   "outputs": [],
   "source": [
    "# This function returns the 3D distance, 3D velocity, and mass of a particle with a specified type\n",
    "# Inputs: filename (string), particle_type (int from 1 to 3), number (index of particle within given type, int)\n",
    "# Outputs: distance_magnitude (3D distance in kpc), velocity_magnitude (3D velocity in km/s), mass (in solar masses)\n",
    "\n",
    "import numpy as np\n",
    "from numpy.linalg import norm\n",
    "import astropy.units as u\n",
    "from ReadFile import Read\n",
    "\n",
    "def ParticleInfo(filename, particle_type, number):\n",
    "    _, _, data = Read(filename) # Get data array from datafile using Read function\n",
    "    type_index = np.where(data['type'] == particle_type) # Indices of particles of given type\n",
    "    particles_of_type = data[type_index] # Isolate only particles of specified type\n",
    "    particle = particles_of_type[number] # Select particle at the given index from previous\n",
    "    \n",
    "    # Get magnitude of distance by accessing x, y, and z position of particle and add kpc units\n",
    "    distance_magnitude = np.around(norm((particle['x'], particle['y'], particle['z'])), 3)*u.kpc\n",
    "    # Get magnitude of velocity by accessing x, y, and z velocity of particle and add km/s units\n",
    "    velocity_magnitude = np.around(norm((particle['vx'], particle['vy'], particle['vz'])), 3)*u.km/u.s\n",
    "    mass = particle['m']*1e10*u.Msun # Particle mass in M_Sun, correct for 10^10 factor in datafile\n",
    "    return distance_magnitude, velocity_magnitude, mass"
   ]
  },
  {
   "cell_type": "code",
   "execution_count": 2,
   "id": "595fc308",
   "metadata": {},
   "outputs": [
    {
     "name": "stdout",
     "output_type": "stream",
     "text": [
      "3D Distance: 4.245 kpc\n",
      "3D Velocity: 312.135 km / s\n",
      "Particle Mass: 1000000.0 solMass\n",
      "3D Distance [ly]: 13845.338 lyr\n"
     ]
    }
   ],
   "source": [
    "# Test case\n",
    "d, v, m = ParticleInfo('MW_000.txt', 2, 99) # Get 3D distance, 3D velocity, and mass of 100th disk particle (type 2)\n",
    "print('3D Distance:', d)\n",
    "print('3D Velocity:', v)\n",
    "print('Particle Mass:', m)\n",
    "print('3D Distance [ly]:', d.to(u.lightyear).round(3)) # Convert distance from kpc to ly and round"
   ]
  }
 ],
 "metadata": {
  "kernelspec": {
   "display_name": "Python 3 (ipykernel)",
   "language": "python",
   "name": "python3"
  },
  "language_info": {
   "codemirror_mode": {
    "name": "ipython",
    "version": 3
   },
   "file_extension": ".py",
   "mimetype": "text/x-python",
   "name": "python",
   "nbconvert_exporter": "python",
   "pygments_lexer": "ipython3",
   "version": "3.9.7"
  }
 },
 "nbformat": 4,
 "nbformat_minor": 5
}
