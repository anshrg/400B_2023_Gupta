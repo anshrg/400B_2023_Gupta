{
 "cells": [
  {
   "cell_type": "code",
   "execution_count": 83,
   "id": "44e435a9",
   "metadata": {},
   "outputs": [],
   "source": [
    "import numpy as np\n",
    "from astropy import units as u\n",
    "from ReadFile import Read # program to read datafile\n",
    "\n",
    "def ComponentMass(filename, particle_type):\n",
    "    '''\n",
    "    This function returns the total mass of a given galaxy component (particle type)\n",
    "    \n",
    "    Inputs:\n",
    "        filename: 'string'\n",
    "                Name of the datafile of the galaxy to be analyzed\n",
    "    \n",
    "        particle_type: 'int'\n",
    "                Galaxy component to be analyzed. Number from 1-3\n",
    "                1 = Halo, 2 = Disk, 3 = Bulge\n",
    "      \n",
    "    Outputs:\n",
    "        mass: 'float'\n",
    "                Mass of the desired galaxy component (10^12 M_Sun, 3 decimal places)\n",
    "    '''\n",
    "    \n",
    "    _, _, data = Read(filename) # Read in data array from datafile\n",
    "    type_index = np.where(data['type'] == particle_type) # Indices of particles of given type\n",
    "    particles_of_type = data[type_index]['m'] # Get masses of particles within component\n",
    "    mass = np.sum(particles_of_type) * 1e10 * u.M_sun # Sum particle masses with units\n",
    "    return np.round(mass / 1e12, 3) # Return mass in desired units with rounding"
   ]
  },
  {
   "cell_type": "code",
   "execution_count": 84,
   "id": "a7aebbb2",
   "metadata": {},
   "outputs": [],
   "source": [
    "from GalaxyMass import ComponentMass # import function to get mass components\n",
    "\n",
    "# Get masses of each component of the Milky Way and add them up\n",
    "MW_halo_mass = ComponentMass('MW_000.txt', 1) # MW halo mass component\n",
    "MW_disk_mass = ComponentMass('MW_000.txt', 2) # MW disk mass component\n",
    "MW_bulge_mass = ComponentMass('MW_000.txt', 3) # MW bulge mass component\n",
    "MW_total_mass = MW_halo_mass + MW_disk_mass + MW_bulge_mass # MW total mass\n",
    "f_bar_MW = (MW_disk_mass + MW_bulge_mass)/MW_total_mass # MW Baryon mass fraction\n",
    "\n",
    "# Get masses of each component of M31 and add them up\n",
    "M31_halo_mass = ComponentMass('M31_000.txt', 1) # M31 halo mass component\n",
    "M31_disk_mass = ComponentMass('M31_000.txt', 2) # M31 disk mass component\n",
    "M31_bulge_mass = ComponentMass('M31_000.txt', 3) # M31 bulge mass component\n",
    "M31_total_mass = M31_halo_mass + M31_disk_mass + M31_bulge_mass # M31 total mass\n",
    "f_bar_M31 = (M31_disk_mass + M31_bulge_mass)/M31_total_mass # M31 Baryon mass fraction\n",
    "\n",
    "# Get masses of each component of M33 and add them up\n",
    "M33_halo_mass = ComponentMass('M33_000.txt', 1) # M33 halo mass component\n",
    "M33_disk_mass = ComponentMass('M33_000.txt', 2) # M33 disk mass component\n",
    "M33_bulge_mass = ComponentMass('M33_000.txt', 3) # M33 bulge mass component\n",
    "M33_total_mass = M33_halo_mass + M33_disk_mass + M33_bulge_mass # M33 total mass\n",
    "f_bar_M33 = (M33_disk_mass + M33_bulge_mass)/M33_total_mass # M33 Baryon mass fraction\n",
    "\n",
    "# Get the total Local Group component masses and the total mass\n",
    "LG_halo_mass = np.round(MW_halo_mass + M31_halo_mass + M33_halo_mass, 3) # LG halo mass component\n",
    "LG_disk_mass = np.round(MW_disk_mass + M31_disk_mass + M33_disk_mass, 3) # LG disk mass component\n",
    "LG_bulge_mass = np.round(MW_bulge_mass + M31_bulge_mass + M33_bulge_mass, 3) # LG bulge mass component\n",
    "LG_total_mass = np.round(LG_halo_mass + LG_disk_mass + LG_bulge_mass, 3) # LG total mass\n",
    "f_bar_LG = (LG_disk_mass + LG_bulge_mass)/LG_total_mass # Local Group Baryon mass fraction\n",
    "\n",
    "galaxy_names = [\"Milky Way\", \"M31\", \"M33\", \"Local Group\"] # array of galaxy/group names\n",
    "halo_masses = [MW_halo_mass, M31_halo_mass, M33_halo_mass, LG_halo_mass] # halo masses array\n",
    "disk_masses = [MW_disk_mass, M31_disk_mass, M33_disk_mass, LG_disk_mass] # disk masses array\n",
    "bulge_masses = [MW_bulge_mass, M31_bulge_mass, M33_bulge_mass, LG_bulge_mass] # bulge masses array\n",
    "total_masses = [MW_total_mass, M31_total_mass, M33_total_mass, LG_total_mass] # total masses array\n",
    "f_bar = [f_bar_MW, f_bar_M31, f_bar_M33, f_bar_LG] # baryon mass fraction array"
   ]
  },
  {
   "cell_type": "code",
   "execution_count": 85,
   "id": "f346a511",
   "metadata": {
    "scrolled": true
   },
   "outputs": [
    {
     "data": {
      "text/html": [
       "<div><i>Table length=4</i>\n",
       "<table id=\"table233732800\" class=\"table-striped table-bordered table-condensed\">\n",
       "<thead><tr><th>Galaxy Name</th><th>Halo Mass ($10^{12} M_{\\odot}$)</th><th>Disk Mass ($10^{12} M_{\\odot}$)</th><th>Bulge Mass ($10^{12} M_{\\odot}$)</th><th>Total Mass ($10^{12} M_{\\odot}$)</th><th>$f_{bar}$</th></tr></thead>\n",
       "<thead><tr><th></th><th>solMass</th><th>solMass</th><th>solMass</th><th>solMass</th><th></th></tr></thead>\n",
       "<thead><tr><th>str11</th><th>float64</th><th>float64</th><th>float64</th><th>float64</th><th>float64</th></tr></thead>\n",
       "<tr><td>Milky Way</td><td>1.975</td><td>0.075</td><td>0.01</td><td>2.06</td><td>0.04126213592233009</td></tr>\n",
       "<tr><td>M31</td><td>1.921</td><td>0.12</td><td>0.019</td><td>2.06</td><td>0.0674757281553398</td></tr>\n",
       "<tr><td>M33</td><td>0.187</td><td>0.009</td><td>0.0</td><td>0.196</td><td>0.04591836734693877</td></tr>\n",
       "<tr><td>Local Group</td><td>4.083</td><td>0.204</td><td>0.029</td><td>4.316</td><td>0.053985171455050975</td></tr>\n",
       "</table></div>"
      ],
      "text/plain": [
       "<Table length=4>\n",
       "Galaxy Name Halo Mass ($10^{12} M_{\\odot}$) ...      $f_{bar}$      \n",
       "                        solMass             ...                     \n",
       "   str11                float64             ...       float64       \n",
       "----------- ------------------------------- ... --------------------\n",
       "  Milky Way                           1.975 ...  0.04126213592233009\n",
       "        M31                           1.921 ...   0.0674757281553398\n",
       "        M33                           0.187 ...  0.04591836734693877\n",
       "Local Group                           4.083 ... 0.053985171455050975"
      ]
     },
     "execution_count": 85,
     "metadata": {},
     "output_type": "execute_result"
    }
   ],
   "source": [
    "import numpy as np\n",
    "from astropy.table import Table # astropy module to create display table\n",
    "# Create the table using previously defined lists of masses and column names\n",
    "t = Table([galaxy_names, halo_masses, disk_masses, bulge_masses, total_masses, f_bar],\n",
    "          names=('Galaxy Name', 'Halo Mass ($10^{12} M_{\\odot}$)', \n",
    "                 'Disk Mass ($10^{12} M_{\\odot}$)', 'Bulge Mass ($10^{12} M_{\\odot}$)', \n",
    "                 'Total Mass ($10^{12} M_{\\odot}$)', '$f_{bar}$'))\n",
    "\n",
    "t # display table"
   ]
  }
 ],
 "metadata": {
  "kernelspec": {
   "display_name": "Python 3 (ipykernel)",
   "language": "python",
   "name": "python3"
  },
  "language_info": {
   "codemirror_mode": {
    "name": "ipython",
    "version": 3
   },
   "file_extension": ".py",
   "mimetype": "text/x-python",
   "name": "python",
   "nbconvert_exporter": "python",
   "pygments_lexer": "ipython3",
   "version": "3.9.7"
  }
 },
 "nbformat": 4,
 "nbformat_minor": 5
}
