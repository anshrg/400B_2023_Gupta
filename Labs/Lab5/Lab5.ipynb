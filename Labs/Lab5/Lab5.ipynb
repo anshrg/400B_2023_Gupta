{
 "cells": [
  {
   "cell_type": "markdown",
   "metadata": {},
   "source": [
    "# Lab 5 ASTR 400B \n"
   ]
  },
  {
   "cell_type": "code",
   "execution_count": 1,
   "metadata": {},
   "outputs": [],
   "source": [
    "# Import Modules \n",
    "import numpy as np\n",
    "import matplotlib.pyplot as plt\n",
    "import matplotlib\n",
    "from astropy import constants as const # import astropy constants\n",
    "import astropy.units as u"
   ]
  },
  {
   "cell_type": "markdown",
   "metadata": {},
   "source": [
    "# Part A :  Mass to Light Ratios \n",
    "\n",
    "Wolf et al. 2010 \n",
    "\n",
    "$M(<R_{half}) = \\frac {4}{G}\\sigma^2 R_e$\n",
    "\n",
    "Where $R_{half}$ = 3D half mass radius \n",
    "and $R_e$ is the 2D half mass radius of stars (observed)\n",
    "\n",
    "Determine which of the following two systems are galaxies:\n",
    "\n",
    "The system 47 Tuc is observed with:  $\\sigma = 17.3$ km/s, $R_e = 0.5$ pc, $L_v \\sim 10^5 L_\\odot$ \n",
    "\n",
    "The system Willman I is observed with: $\\sigma = 4.3$ km/s, $R_e = 25$ pc, $L_v = 10^3 L_\\odot$"
   ]
  },
  {
   "cell_type": "code",
   "execution_count": 2,
   "metadata": {},
   "outputs": [],
   "source": [
    "# Gravitational Constant in the desired units\n",
    "# kpc^3/Gyr^2/Msun\n",
    "Grav = const.G.to(u.kpc**3/u.Gyr**2/u.Msun)"
   ]
  },
  {
   "cell_type": "code",
   "execution_count": 3,
   "metadata": {},
   "outputs": [],
   "source": [
    "def WolfMass(sigma, re):\n",
    "    \"\"\" Function that defines the Wolf mass estimator from Wolf+ 2010\n",
    "    PARAMETERS\n",
    "    ----------\n",
    "        sigma: astropy quantity\n",
    "            1D line of sight velocity dispersion in km/s\n",
    "        re: astropy quantity\n",
    "            Effective radius, 2D radius enclosing half the\n",
    "            stellar mass in kpc\n",
    "    OUTPUTS\n",
    "    -------\n",
    "        mWolf: Returns the dynamical mass within the \n",
    "            half light radius in Msun\n",
    "    \"\"\"\n",
    "    sigmaKpcGyr = sigma.to(u.kpc/u.Gyr)\n",
    "    mWolf = 4/Grav*sigmaKpcGyr**2*re\n",
    "    return mWolf"
   ]
  },
  {
   "cell_type": "code",
   "execution_count": 4,
   "metadata": {},
   "outputs": [
    {
     "name": "stdout",
     "output_type": "stream",
     "text": [
      "47 Tuc Mass: 1.39e+05 solMass\n",
      "Willman I Mass: 4.30e+05 solMass\n",
      "\n",
      "47 Tuc Mass to luminosity ratio: 1.39e+00\n",
      "Willman I Mass to luminosity ratio: 4.30e+02\n"
     ]
    }
   ],
   "source": [
    "wolf_mass_47tuc = WolfMass(17.3*u.km/u.s, 0.5/1000*u.kpc)\n",
    "wolf_mass_WillmanI = WolfMass(4.3*u.km/u.s, 25/1000*u.kpc)\n",
    "L_47tuc = 1e5\n",
    "L_WillmanI = 1e3\n",
    "print(f\"47 Tuc Mass: {wolf_mass_47tuc:.2e}\")\n",
    "print(f\"Willman I Mass: {wolf_mass_WillmanI:.2e}\")\n",
    "print()\n",
    "print(f\"47 Tuc Mass to luminosity ratio: {wolf_mass_47tuc.value/L_47tuc:.2e}\")\n",
    "print(f\"Willman I Mass to luminosity ratio: {wolf_mass_WillmanI.value/L_WillmanI:.2e}\")"
   ]
  },
  {
   "cell_type": "markdown",
   "metadata": {},
   "source": [
    "# Part B :  Stellar to Halo Mass Relation\n",
    "\n",
    "Following the work of [Moster et al. 2013 (MNRAS, 428, 3121)](https://ui.adsabs.harvard.edu/abs/2013MNRAS.428.3121M/abstract)\n",
    "\n",
    "\n",
    "`Equation 2:`                  $ \\frac{m}{M} = 2N \\left [ \\left ( \\frac{M}{M_1} \\right)^{-\\beta} + \\left (\\frac{M}{M_1} \\right)^{\\gamma} \\right]$ \n",
    "\n",
    "$m$ = stellar mass, $M$ = halo mass\n",
    "\n",
    "`Equation 11:`        log $M_1(z) = M_{10} + M_{11} \\frac{z}{z+1} $ \n",
    "\n",
    "`Equation 12:`        $N(z) = N_{10} + N_{11} \\frac{z}{z+1} $\n",
    "\n",
    "`Equation 13:`         $\\beta(z) = \\beta_{10} + \\beta_{11} \\frac{z}{z+1} $\n",
    "\n",
    "`Equation 14:`         $\\gamma(z) = \\gamma_{10} + \\gamma_{11} \\frac{z}{z+1} $"
   ]
  },
  {
   "cell_type": "markdown",
   "metadata": {},
   "source": [
    "# Q1 \n",
    "\n",
    "Modify the class below by adding a function called `StellarMass` that uses the `SHMratio` function and returns the stellar mass."
   ]
  },
  {
   "cell_type": "code",
   "execution_count": 5,
   "metadata": {},
   "outputs": [],
   "source": [
    "class AbundanceMatching:\n",
    "    \"\"\" Class to define the abundance matching relations from \n",
    "    Moster et al. 2013\"\"\"\n",
    "    \n",
    "    \n",
    "    def __init__(self, mhalo, z):\n",
    "        \"\"\" Initialize the class\n",
    "        PARAMETERS\n",
    "        ----------\n",
    "            mhalo: float\n",
    "                Halo mass in Msun\n",
    "            z: float\n",
    "                redshift\n",
    "        \"\"\"\n",
    "        \n",
    "        #initializing the parameters:\n",
    "        self.mhalo = mhalo # Halo Mass in Msun\n",
    "        self.z = z  # Redshift\n",
    "        \n",
    "        \n",
    "    def logM1(self):\n",
    "        \"\"\"eq. 11 of Moster 2013\n",
    "        OUTPUT: \n",
    "            M1: float \n",
    "                characteristic mass in log(Msun)\n",
    "        \"\"\"\n",
    "        M10      = 11.59\n",
    "        M11      = 1.195 \n",
    "        return M10 + M11*(self.z/(1+self.z))  \n",
    "    \n",
    "    \n",
    "    def N(self):\n",
    "        \"\"\"eq. 12 of Moster 2013\n",
    "        OUTPUT: \n",
    "            Normalization for eq. 2\n",
    "        \"\"\"\n",
    "        N10      = 0.0351\n",
    "        N11      = -0.0247\n",
    "    \n",
    "        return N10 + N11*(self.z/(1+self.z))\n",
    "    \n",
    "    \n",
    "    def Beta(self):\n",
    "        \"\"\"eq. 13 of Moster 2013\n",
    "        OUTPUT:  power of the low mass slope\"\"\"\n",
    "        beta10      = 1.376\n",
    "        beta11      = -0.826\n",
    "    \n",
    "        return beta10 + beta11*(self.z/(1+self.z))\n",
    "    \n",
    "    def Gamma(self):\n",
    "        \"\"\"eq. 14 of Moster 2013\n",
    "        OUTPUT: power of the high mass slope \"\"\"\n",
    "        gamma10      = 0.608\n",
    "        gamma11      = 0.329\n",
    "    \n",
    "        return gamma10 + gamma11*(self.z/(1+self.z))\n",
    "    \n",
    "    \n",
    "    def SHMratio(self):\n",
    "        \"\"\" \n",
    "        eq. 2 of Moster + 2013\n",
    "        OUTPUT: \n",
    "            SHMratio float\n",
    "                Stellar mass to halo mass ratio\n",
    "        \"\"\"\n",
    "        M1 = 10**self.logM1() # Converting characteristic mass \n",
    "        # to Msun from Log(Msun)\n",
    "        A = (self.mhalo/M1)**(-self.Beta())  # Low mass end\n",
    "        B = (self.mhalo/M1)**(self.Gamma())   # High mass end\n",
    "        Norm = 2*self.N() # Normalization\n",
    "    \n",
    "        SHMratio = Norm*(A+B)**(-1)\n",
    "    \n",
    "        return SHMratio\n",
    "    \n",
    "    \n",
    " # Q1: add a function to the class that takes the SHM ratio and returns \n",
    "# The stellar mass \n",
    "    def stellarMass(self):\n",
    "        \"\"\" Method to compute the stellar mass of a galaxy using equation 2 from Moster 2013\n",
    "        \n",
    "        OUTPUT:\n",
    "            float, stellar mass in Msun        \n",
    "        \n",
    "        \"\"\"\n",
    "        \n",
    "        return self.mhalo*self.SHMratio()"
   ]
  },
  {
   "cell_type": "markdown",
   "metadata": {},
   "source": [
    "# Part C : Plot the Moster Relation\n",
    "\n",
    "Reproduce the below figure from Moster + 2013 \n",
    "Plot this for z=0, 0.5, 1, 2\n",
    "\n",
    "![mos](./MosterFig.png)"
   ]
  },
  {
   "cell_type": "code",
   "execution_count": 6,
   "metadata": {},
   "outputs": [],
   "source": [
    "mh = np.logspace(10,15,1000) # Logarithmically spaced array"
   ]
  },
  {
   "cell_type": "code",
   "execution_count": 9,
   "metadata": {},
   "outputs": [],
   "source": [
    "# Define Instances of the Class for each redshift\n",
    "MosterZ0 = AbundanceMatching(mh,0)\n",
    "MosterZ0_5 = AbundanceMatching(mh,0.5)\n",
    "MosterZ1 = AbundanceMatching(mh,1)\n",
    "MosterZ2 = AbundanceMatching(mh,2)\n",
    "MosterZ1000 = AbundanceMatching(mh,1000)"
   ]
  },
  {
   "cell_type": "code",
   "execution_count": 11,
   "metadata": {},
   "outputs": [
    {
     "data": {
      "image/png": "[encoded data removed]",
      "text/plain": [
       "<Figure size 720x576 with 1 Axes>"
      ]
     },
     "metadata": {
      "needs_background": "light"
     },
     "output_type": "display_data"
    }
   ],
   "source": [
    "\n",
    "fig,ax = plt.subplots(figsize=(10,8))\n",
    "\n",
    "\n",
    "#adjust tick label font size\n",
    "label_size = 22\n",
    "matplotlib.rcParams['xtick.labelsize'] = label_size \n",
    "matplotlib.rcParams['ytick.labelsize'] = label_size\n",
    "\n",
    "# Plot z = 0\n",
    "plt.plot(np.log10(mh), np.log10(MosterZ0.stellarMass()),\n",
    "         linewidth = 5, label='z=0')\n",
    "\n",
    "# Continue plotting for the other redshifts here\n",
    "plt.plot(np.log10(mh), np.log10(MosterZ0_5.stellarMass()),\n",
    "         linewidth = 5, label='z=0.5')\n",
    "plt.plot(np.log10(mh), np.log10(MosterZ1.stellarMass()),\n",
    "         linewidth = 5, label='z=1')\n",
    "plt.plot(np.log10(mh), np.log10(MosterZ2.stellarMass()),\n",
    "         linewidth = 5, label='z=2')\n",
    "plt.plot(np.log10(mh), np.log10(MosterZ1000.stellarMass()),\n",
    "         linewidth = 5, label='z=1000')\n",
    "\n",
    "\n",
    "# Axes labels \n",
    "plt.xlabel('log (M$_h$/M$_\\odot$)',fontsize=22) \n",
    "plt.ylabel('log (m$_\\star$/M$_\\odot$)', fontsize=22)\n",
    "\n",
    "# Legend\n",
    "plt.legend(loc='lower right',fontsize='x-large')\n",
    "\n",
    "# save the file \n",
    "plt.savefig(\"AbundanceMatching_Lab5.png\")\n",
    "\n"
   ]
  },
  {
   "cell_type": "markdown",
   "metadata": {},
   "source": [
    "# Part D\n",
    "\n",
    "# Q1\n",
    "\n",
    "In traditional models of the Magellanic Clouds (prior to 2010), the LMC is thought to have a halo mass of order $3 \\times 10^{10}$ M$_\\odot$.  According to LCDM theory, what should be the stellar mass of such a halo?  \n",
    "\n",
    "How does this compare against the actual observed stellar mass of the LMC at the present day of $3 \\times 10^9$ M$_\\odot$ ? \n",
    "\n",
    "What is the $\\Lambda$CDM expected halo mass? What is the origin of any discrepancy? "
   ]
  },
  {
   "cell_type": "code",
   "execution_count": 16,
   "metadata": {},
   "outputs": [
    {
     "name": "stdout",
     "output_type": "stream",
     "text": [
      "6.16e+07\n",
      "48.71539642012145\n"
     ]
    }
   ],
   "source": [
    "\n",
    "haloLMC1 = 3e10 # original LMC halo mass\n",
    "\n",
    "LMC1 = AbundanceMatching(haloLMC1, 0)\n",
    "\n",
    "LMC1star = LMC1.stellarMass()\n",
    "\n",
    "print(f\"{LMC1star:.2e}\")\n",
    "print(3e9/LMC1star)"
   ]
  },
  {
   "cell_type": "code",
   "execution_count": 44,
   "metadata": {},
   "outputs": [
    {
     "name": "stdout",
     "output_type": "stream",
     "text": [
      "3.00e+09\n",
      "1.0001146354615154\n"
     ]
    }
   ],
   "source": [
    "haloLMC2 = 1.6474e11 # Newly estimated LMC halo mass from measured stellar mass, trial and error\n",
    "\n",
    "LMC2 = AbundanceMatching(haloLMC2, 0)\n",
    "\n",
    "LMC2star = LMC2.stellarMass()\n",
    "\n",
    "print(f\"{LMC2star:.2e}\")\n",
    "print(3e9/LMC2star)"
   ]
  },
  {
   "cell_type": "markdown",
   "metadata": {},
   "source": [
    "What this implies is that the LMC must have a larger halo mass than was previously expected based on other factors. The previous estimate is derived from the assumption that the galaxy has been in orbit around the Milky Way for a significant amount of time, while remaining tidally \"unaffected\" (not unaffected, but still together). Because its halo mass by the Moster relation is much higher than the limit from this estimate, we can determine that the galaxy must have somewhat recently arrived in its current orbit."
   ]
  },
  {
   "cell_type": "markdown",
   "metadata": {},
   "source": [
    "# Q2\n",
    "\n",
    "\n",
    "What is the expected stellar mass of an L* galaxy at z=0? \n",
    "\n",
    "What is the expected stellar mass of an L* galaxy at z = 2?  "
   ]
  },
  {
   "cell_type": "code",
   "execution_count": 52,
   "metadata": {},
   "outputs": [
    {
     "name": "stdout",
     "output_type": "stream",
     "text": [
      "Log M1, characteristic halo mass at z=0: 11.59\n",
      "Stellar mass of an L* galaxy at z=0: 1.37 x 1e10 Msun\n"
     ]
    }
   ],
   "source": [
    "print(f\"Log M1, characteristic halo mass at z=0: {MosterZ0.logM1()}\")\n",
    "MstarZ0 = AbundanceMatching(10**MosterZ0.logM1(), 0)\n",
    "print(f\"Stellar mass of an L* galaxy at z=0: {np.around(MstarZ0.stellarMass()/1e10,2)} x 1e10 Msun\")"
   ]
  },
  {
   "cell_type": "code",
   "execution_count": 54,
   "metadata": {},
   "outputs": [
    {
     "name": "stdout",
     "output_type": "stream",
     "text": [
      "Log M1, characteristic halo mass at z=1: 12.1875\n",
      "Stellar mass of an L* galaxy at z=1: 3.5 x 1e10 Msun\n"
     ]
    }
   ],
   "source": [
    "print(f\"Log M1, characteristic halo mass at z=1: {MosterZ1.logM1()}\")\n",
    "MstarZ1 = AbundanceMatching(10**MosterZ1.logM1(), 1)\n",
    "print(f\"Stellar mass of an L* galaxy at z=1: {np.around(MstarZ1.stellarMass()/1e10,2)} x 1e10 Msun\")"
   ]
  }
 ],
 "metadata": {
  "kernelspec": {
   "display_name": "Python 3 (ipykernel)",
   "language": "python",
   "name": "python3"
  },
  "language_info": {
   "codemirror_mode": {
    "name": "ipython",
    "version": 3
   },
   "file_extension": ".py",
   "mimetype": "text/x-python",
   "name": "python",
   "nbconvert_exporter": "python",
   "pygments_lexer": "ipython3",
   "version": "3.9.7"
  }
 },
 "nbformat": 4,
 "nbformat_minor": 2
}
